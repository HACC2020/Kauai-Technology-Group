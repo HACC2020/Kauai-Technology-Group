{
 "cells": [
  {
   "cell_type": "markdown",
   "metadata": {},
   "source": [
    "# Preliminary Data Exploration\n",
    "This notebook takes a look at the [data provided](https://github.com/HACC2020/data) by the UH Occupancy challenge for HACC 2020. "
   ]
  },
  {
   "cell_type": "code",
   "execution_count": 1,
   "metadata": {},
   "outputs": [],
   "source": [
    "import pandas as pd\n",
    "import numpy as np\n",
    "from pprint import pprint\n",
    "from datetime import datetime"
   ]
  },
  {
   "cell_type": "code",
   "execution_count": 2,
   "metadata": {},
   "outputs": [],
   "source": [
    "df = pd.read_csv('data-main/uh_occupancy/2020-0824_600am-859am_devices_1598295707.csv')\n",
    "df2 = pd.read_csv('data-main/uh_occupancy/2020-0824_900am-1159am_devices_1598306516.csv')"
   ]
  },
  {
   "cell_type": "code",
   "execution_count": 3,
   "metadata": {},
   "outputs": [
    {
     "name": "stdout",
     "output_type": "stream",
     "text": [
      "                     Device  Max Clients  Unique Clients     Building\n",
      "0       Wainani H 362B Temp            2               2      Wainani\n",
      "1         Frear D 507C Temp            5               9        Frear\n",
      "2         Frear D 207C Temp            4              10        Frear\n",
      "3         Frear D 707C Temp            4               5        Frear\n",
      "4           Noelani E Store            1              10      Noelani\n",
      "...                     ...          ...             ...          ...\n",
      "3209    C-MORE 104 Outreach            0               4       C-MORE\n",
      "3210            C-MORE 202A            0               0       C-MORE\n",
      "3211             C-MORE 218            0               1       C-MORE\n",
      "3212  Athletics 345 Hallway            4              12    Athletics\n",
      "3213         CBA G103 Mauka            0               0  Shidler CBA\n",
      "\n",
      "[3214 rows x 4 columns]\n",
      "                     Device  Max Clients  Unique Clients     Building\n",
      "0       Wainani H 362B Temp            2               2      Wainani\n",
      "1         Frear D 507C Temp            7               9        Frear\n",
      "2         Frear D 207C Temp            7              12        Frear\n",
      "3         Frear D 707C Temp            4               7        Frear\n",
      "4           Noelani E Store            1              32      Noelani\n",
      "...                     ...          ...             ...          ...\n",
      "3209    C-MORE 104 Outreach            1               9       C-MORE\n",
      "3210            C-MORE 202A            2               4       C-MORE\n",
      "3211             C-MORE 218            0               1       C-MORE\n",
      "3212  Athletics 345 Hallway            4               8    Athletics\n",
      "3213         CBA G103 Mauka            1               1  Shidler CBA\n",
      "\n",
      "[3214 rows x 4 columns]\n"
     ]
    }
   ],
   "source": [
    "pprint(df)\n",
    "pprint(df2)"
   ]
  },
  {
   "cell_type": "code",
   "execution_count": 4,
   "metadata": {},
   "outputs": [
    {
     "data": {
      "text/plain": [
       "True     2497\n",
       "False     717\n",
       "dtype: int64"
      ]
     },
     "execution_count": 4,
     "metadata": {},
     "output_type": "execute_result"
    }
   ],
   "source": [
    "# Counting how many times the amount of connections surpassed room capacity (social distancing)\n",
    "(df['Unique Clients'] > df['Max Clients']).value_counts()\n",
    "(df2['Unique Clients'] > df2['Max Clients']).value_counts()"
   ]
  },
  {
   "cell_type": "code",
   "execution_count": 19,
   "metadata": {},
   "outputs": [],
   "source": [
    "import pandas as pd\n",
    "import glob\n",
    "\n",
    "path='data-main/uh_occupancy'\n",
    "\n",
    "all_files = glob.glob(path + \"/*.csv\")\n",
    "\n",
    "li = []\n",
    "\n",
    "for filename in all_files:\n",
    "    df = pd.read_csv(filename, index_col=None, header=0)\n",
    "    \n",
    "    filename = filename.split('/')\n",
    "    filename = filename[-1:][0].split('_')\n",
    "    filename.remove('devices')\n",
    "    df['date'], df['period'], df['epoch'] = filename[:]\n",
    "    \n",
    "    li.append(df)\n",
    "\n",
    "frame = pd.concat(li, axis=0, ignore_index=True)"
   ]
  },
  {
   "cell_type": "code",
   "execution_count": 20,
   "metadata": {},
   "outputs": [
    {
     "name": "stdout",
     "output_type": "stream",
     "text": [
      "                       Device  Max Clients  Unique Clients     Building  \\\n",
      "0         Wainani H 362B Temp            2               2      Wainani   \n",
      "1           Frear D 507C Temp            7               8        Frear   \n",
      "2           Frear D 207C Temp            8              10        Frear   \n",
      "3           Frear D 707C Temp            6               8        Frear   \n",
      "4             Noelani E Store            4              39      Noelani   \n",
      "...                       ...          ...             ...          ...   \n",
      "399061    C-MORE 104 Outreach            1               3       C-MORE   \n",
      "399062            C-MORE 202A            0               1       C-MORE   \n",
      "399063             C-MORE 218            0               1       C-MORE   \n",
      "399064  Athletics 345 Hallway            1               7    Athletics   \n",
      "399065         CBA G103 Mauka            1               1  Shidler CBA   \n",
      "\n",
      "             date        period           epoch Buildings Building 37  \n",
      "0       2020-0824  1200pm-259pm  1598317333.csv       NaN         NaN  \n",
      "1       2020-0824  1200pm-259pm  1598317333.csv       NaN         NaN  \n",
      "2       2020-0824  1200pm-259pm  1598317333.csv       NaN         NaN  \n",
      "3       2020-0824  1200pm-259pm  1598317333.csv       NaN         NaN  \n",
      "4       2020-0824  1200pm-259pm  1598317333.csv       NaN         NaN  \n",
      "...           ...           ...             ...       ...         ...  \n",
      "399061  2020-0908  900am-1159am  1599602525.csv       NaN         NaN  \n",
      "399062  2020-0908  900am-1159am  1599602525.csv       NaN         NaN  \n",
      "399063  2020-0908  900am-1159am  1599602525.csv       NaN         NaN  \n",
      "399064  2020-0908  900am-1159am  1599602525.csv       NaN         NaN  \n",
      "399065  2020-0908  900am-1159am  1599602525.csv       NaN         NaN  \n",
      "\n",
      "[399066 rows x 9 columns]\n"
     ]
    }
   ],
   "source": [
    "pprint(frame)"
   ]
  },
  {
   "cell_type": "code",
   "execution_count": 21,
   "metadata": {},
   "outputs": [],
   "source": [
    "import fiona \n",
    "import geopandas as gpd\n",
    "import shapely\n",
    "\n",
    "# Enable fiona driver\n",
    "gpd.io.file.fiona.drvsupport.supported_drivers['KML'] = 'rw'\n",
    "\n",
    "# Read file\n",
    "df = gpd.read_file('data-main/wireless20200511125738.kml', driver='KML')\n",
    "\n",
    "# Drop Z dimension of polygons that occurs often in kml \n",
    "df.geometry = df.geometry.map(lambda polygon: shapely.ops.transform(lambda x, y, z: (x, y), polygon))"
   ]
  },
  {
   "cell_type": "code",
   "execution_count": 22,
   "metadata": {},
   "outputs": [
    {
     "name": "stdout",
     "output_type": "stream",
     "text": [
      "                              Name  \\\n",
      "0                           Biomed   \n",
      "1                      Bilger Hall   \n",
      "2                    Campus Center   \n",
      "3                 Hamilton Library   \n",
      "4                      George Hall   \n",
      "..                             ...   \n",
      "122                 St John Garden   \n",
      "123   Law School Clinical Building   \n",
      "124       Lyon Arboretum Cottage G   \n",
      "125        Manoa Innovation Center   \n",
      "126  Lower Campus Maintenance Shed   \n",
      "\n",
      "                                           Description  \\\n",
      "0    <ul> <li>A-Court: A 110, A110T</li> <li>B-Cour...   \n",
      "1    <ul> <li>1st Floor</li> <li>2nd Floor</li> <li...   \n",
      "2    <ul> <li>105 (Stir Fresh), 117 (Game Room), 12...   \n",
      "3    <ul> <li>Main Building </li> <li>Basement</li>...   \n",
      "4    <ul> <li>1st Floor</li> <li>2nd Floor</li> <li...   \n",
      "..                                                 ...   \n",
      "122                                         <ul> </ul>   \n",
      "123                                         <ul> </ul>   \n",
      "124                                         <ul> </ul>   \n",
      "125                                         <ul> </ul>   \n",
      "126                                         <ul> </ul>   \n",
      "\n",
      "                                              geometry  \n",
      "0    POLYGON ((-157.81507 21.30390, -157.81417 21.3...  \n",
      "1    POLYGON ((-157.81689 21.29923, -157.81633 21.2...  \n",
      "2    POLYGON ((-157.81935 21.29875, -157.81910 21.2...  \n",
      "3    POLYGON ((-157.81681 21.30119, -157.81584 21.3...  \n",
      "4    POLYGON ((-157.82040 21.30071, -157.82003 21.3...  \n",
      "..                                                 ...  \n",
      "122  POLYGON ((-157.81515 21.30196, -157.81479 21.3...  \n",
      "123  POLYGON ((-157.81927 21.29664, -157.81928 21.2...  \n",
      "124  POLYGON ((-157.80289 21.33291, -157.80277 21.3...  \n",
      "125  POLYGON ((-157.80862 21.30925, -157.80822 21.3...  \n",
      "126  POLYGON ((-157.81521 21.29478, -157.81530 21.2...  \n",
      "\n",
      "[127 rows x 3 columns]\n"
     ]
    }
   ],
   "source": [
    "print(df)"
   ]
  },
  {
   "cell_type": "code",
   "execution_count": 23,
   "metadata": {},
   "outputs": [
    {
     "name": "stderr",
     "output_type": "stream",
     "text": [
      "<ipython-input-23-0793bd2258ee>:2: UserWarning: Geometry is in a geographic CRS. Results from 'centroid' are likely incorrect. Use 'GeoSeries.to_crs()' to re-project geometries to a projected CRS before this operation.\n",
      "\n",
      "  df['center_point'] = df['geometry'].centroid\n"
     ]
    }
   ],
   "source": [
    "# For simplicity, we ignore the curvature of the Earth: https://gis.stackexchange.com/questions/372564/userwarning-when-trying-to-get-centroid-from-a-polygon-geopandas\n",
    "df['center_point'] = df['geometry'].centroid"
   ]
  },
  {
   "cell_type": "code",
   "execution_count": 24,
   "metadata": {},
   "outputs": [
    {
     "name": "stdout",
     "output_type": "stream",
     "text": [
      "0                             Biomed\n",
      "1                        Bilger Hall\n",
      "2                      Campus Center\n",
      "3                   Hamilton Library\n",
      "4                        George Hall\n",
      "                   ...              \n",
      "122                   St John Garden\n",
      "123     Law School Clinical Building\n",
      "124         Lyon Arboretum Cottage G\n",
      "125          Manoa Innovation Center\n",
      "126    Lower Campus Maintenance Shed\n",
      "Name: Name, Length: 127, dtype: object\n"
     ]
    }
   ],
   "source": [
    "print(df['Name'])"
   ]
  },
  {
   "cell_type": "code",
   "execution_count": 25,
   "metadata": {},
   "outputs": [
    {
     "name": "stdout",
     "output_type": "stream",
     "text": [
      "108\n",
      "['Frear', 'Mokihana', 'Architecture-Hawaii Hall Outdoor Lawn', 'Gateway', 'Burns', 'Entrance Kiosks', 'ITC', 'Life Science Building', 'Campus Security', 'Murakami', 'Hale Kahawai', 'Anuenue', 'Lower Campus', 'Parking Structure', 'Ilima', 'Admin Services/Bookstore Warehouse', 'Johnson', 'UH Lab School Portables (N)', 'Thrift Shop', 'Sinclair Annexes', 'Maile Way Annex', 'Ching', 'Nagatani', 'Landscaping', nan]\n",
      "25\n"
     ]
    }
   ],
   "source": [
    "# some of the building names are different in the KML file. This shows how many we still need coordinates for:\n",
    "a = frame['Building'].unique()\n",
    "print(len(a))\n",
    "l3 = [x for x in a if x not in list(df['Name'])]\n",
    "print(l3)\n",
    "print(len(l3))"
   ]
  },
  {
   "cell_type": "code",
   "execution_count": 26,
   "metadata": {},
   "outputs": [],
   "source": [
    "df['Building'] = df['Name']"
   ]
  },
  {
   "cell_type": "code",
   "execution_count": 53,
   "metadata": {},
   "outputs": [],
   "source": [
    "# create a column for the building's coordinates by converting the Shapely geometry object into a list\n",
    "df['lon'] = [center.x for center in df['center_point'] if center != None]\n",
    "df['lat'] = [center.y for center in df['center_point'] if center != None]\n",
    "\n",
    "# https://stackoverflow.com/questions/53645882/pandas-merging-101\n",
    "frame = frame.merge(df, on='Building', how='outer')"
   ]
  },
  {
   "cell_type": "code",
   "execution_count": 54,
   "metadata": {},
   "outputs": [
    {
     "name": "stdout",
     "output_type": "stream",
     "text": [
      "                     Device  Max Clients  Unique Clients  \\\n",
      "0       Wainani H 362B Temp          2.0             2.0   \n",
      "1             Wainani F 502         12.0            15.0   \n",
      "2             Wainani F 605          6.0            14.0   \n",
      "3             Wainani F 603          6.0            10.0   \n",
      "4             Wainani F 604          5.0             7.0   \n",
      "...                     ...          ...             ...   \n",
      "399105                  NaN          NaN             NaN   \n",
      "399106                  NaN          NaN             NaN   \n",
      "399107                  NaN          NaN             NaN   \n",
      "399108                  NaN          NaN             NaN   \n",
      "399109                  NaN          NaN             NaN   \n",
      "\n",
      "                             Building       date        period  \\\n",
      "0                             Wainani  2020-0824  1200pm-259pm   \n",
      "1                             Wainani  2020-0824  1200pm-259pm   \n",
      "2                             Wainani  2020-0824  1200pm-259pm   \n",
      "3                             Wainani  2020-0824  1200pm-259pm   \n",
      "4                             Wainani  2020-0824  1200pm-259pm   \n",
      "...                               ...        ...           ...   \n",
      "399105                 St John Garden        NaN           NaN   \n",
      "399106   Law School Clinical Building        NaN           NaN   \n",
      "399107       Lyon Arboretum Cottage G        NaN           NaN   \n",
      "399108        Manoa Innovation Center        NaN           NaN   \n",
      "399109  Lower Campus Maintenance Shed        NaN           NaN   \n",
      "\n",
      "                 epoch                              coordinates_x  \\\n",
      "0       1598317333.csv  [-157.81458181493875, 21.292468917945786]   \n",
      "1       1598317333.csv  [-157.81458181493875, 21.292468917945786]   \n",
      "2       1598317333.csv  [-157.81458181493875, 21.292468917945786]   \n",
      "3       1598317333.csv  [-157.81458181493875, 21.292468917945786]   \n",
      "4       1598317333.csv  [-157.81458181493875, 21.292468917945786]   \n",
      "...                ...                                        ...   \n",
      "399105             NaN   [-157.8149158862319, 21.301800828250123]   \n",
      "399106             NaN   [-157.8194272081451, 21.296532782831285]   \n",
      "399107             NaN   [-157.8028471768998, 21.332824327843287]   \n",
      "399108             NaN  [-157.80858816323735, 21.308861044983516]   \n",
      "399109             NaN  [-157.81517570583927, 21.294666727224854]   \n",
      "\n",
      "                                 Name                       Description  \\\n",
      "0                             Wainani  <ul> <li>106 (Lounge)</li> </ul>   \n",
      "1                             Wainani  <ul> <li>106 (Lounge)</li> </ul>   \n",
      "2                             Wainani  <ul> <li>106 (Lounge)</li> </ul>   \n",
      "3                             Wainani  <ul> <li>106 (Lounge)</li> </ul>   \n",
      "4                             Wainani  <ul> <li>106 (Lounge)</li> </ul>   \n",
      "...                               ...                               ...   \n",
      "399105                 St John Garden                        <ul> </ul>   \n",
      "399106   Law School Clinical Building                        <ul> </ul>   \n",
      "399107       Lyon Arboretum Cottage G                        <ul> </ul>   \n",
      "399108        Manoa Innovation Center                        <ul> </ul>   \n",
      "399109  Lower Campus Maintenance Shed                        <ul> </ul>   \n",
      "\n",
      "                                                 geometry  \\\n",
      "0       POLYGON ((-157.81474 21.29246, -157.81453 21.2...   \n",
      "1       POLYGON ((-157.81474 21.29246, -157.81453 21.2...   \n",
      "2       POLYGON ((-157.81474 21.29246, -157.81453 21.2...   \n",
      "3       POLYGON ((-157.81474 21.29246, -157.81453 21.2...   \n",
      "4       POLYGON ((-157.81474 21.29246, -157.81453 21.2...   \n",
      "...                                                   ...   \n",
      "399105  POLYGON ((-157.81515 21.30196, -157.81479 21.3...   \n",
      "399106  POLYGON ((-157.81927 21.29664, -157.81928 21.2...   \n",
      "399107  POLYGON ((-157.80289 21.33291, -157.80277 21.3...   \n",
      "399108  POLYGON ((-157.80862 21.30925, -157.80822 21.3...   \n",
      "399109  POLYGON ((-157.81521 21.29478, -157.81530 21.2...   \n",
      "\n",
      "                       center_point  \\\n",
      "0       POINT (-157.81458 21.29247)   \n",
      "1       POINT (-157.81458 21.29247)   \n",
      "2       POINT (-157.81458 21.29247)   \n",
      "3       POINT (-157.81458 21.29247)   \n",
      "4       POINT (-157.81458 21.29247)   \n",
      "...                             ...   \n",
      "399105  POINT (-157.81492 21.30180)   \n",
      "399106  POINT (-157.81943 21.29653)   \n",
      "399107  POINT (-157.80285 21.33282)   \n",
      "399108  POINT (-157.80859 21.30886)   \n",
      "399109  POINT (-157.81518 21.29467)   \n",
      "\n",
      "                                    coordinates_y         lon        lat  \n",
      "0       [-157.81458181493875, 21.292468917945786] -157.814582  21.292469  \n",
      "1       [-157.81458181493875, 21.292468917945786] -157.814582  21.292469  \n",
      "2       [-157.81458181493875, 21.292468917945786] -157.814582  21.292469  \n",
      "3       [-157.81458181493875, 21.292468917945786] -157.814582  21.292469  \n",
      "4       [-157.81458181493875, 21.292468917945786] -157.814582  21.292469  \n",
      "...                                           ...         ...        ...  \n",
      "399105   [-157.8149158862319, 21.301800828250123] -157.814916  21.301801  \n",
      "399106   [-157.8194272081451, 21.296532782831285] -157.819427  21.296533  \n",
      "399107   [-157.8028471768998, 21.332824327843287] -157.802847  21.332824  \n",
      "399108  [-157.80858816323735, 21.308861044983516] -157.808588  21.308861  \n",
      "399109  [-157.81517570583927, 21.294666727224854] -157.815176  21.294667  \n",
      "\n",
      "[399110 rows x 15 columns]\n"
     ]
    },
    {
     "ename": "KeyError",
     "evalue": "\"['Buildings' 'Building 37'] not found in axis\"",
     "output_type": "error",
     "traceback": [
      "\u001b[0;31m---------------------------------------------------------------------------\u001b[0m",
      "\u001b[0;31mKeyError\u001b[0m                                  Traceback (most recent call last)",
      "\u001b[0;32m<ipython-input-54-09f00b13459b>\u001b[0m in \u001b[0;36m<module>\u001b[0;34m\u001b[0m\n\u001b[1;32m      1\u001b[0m \u001b[0mpprint\u001b[0m\u001b[0;34m(\u001b[0m\u001b[0mframe\u001b[0m\u001b[0;34m)\u001b[0m\u001b[0;34m\u001b[0m\u001b[0;34m\u001b[0m\u001b[0m\n\u001b[0;32m----> 2\u001b[0;31m \u001b[0mframe\u001b[0m\u001b[0;34m.\u001b[0m\u001b[0mdrop\u001b[0m\u001b[0;34m(\u001b[0m\u001b[0;34m[\u001b[0m\u001b[0;34m'Name'\u001b[0m\u001b[0;34m,\u001b[0m\u001b[0;34m'Buildings'\u001b[0m\u001b[0;34m,\u001b[0m\u001b[0;34m'Building 37'\u001b[0m\u001b[0;34m,\u001b[0m \u001b[0;34m'Description'\u001b[0m\u001b[0;34m,\u001b[0m \u001b[0;34m'geometry'\u001b[0m\u001b[0;34m,\u001b[0m \u001b[0;34m'center_point'\u001b[0m\u001b[0;34m]\u001b[0m\u001b[0;34m,\u001b[0m \u001b[0maxis\u001b[0m\u001b[0;34m=\u001b[0m\u001b[0;36m1\u001b[0m\u001b[0;34m,\u001b[0m \u001b[0minplace\u001b[0m\u001b[0;34m=\u001b[0m\u001b[0;32mTrue\u001b[0m\u001b[0;34m)\u001b[0m\u001b[0;34m\u001b[0m\u001b[0;34m\u001b[0m\u001b[0m\n\u001b[0m",
      "\u001b[0;32m/opt/conda/lib/python3.8/site-packages/pandas/core/frame.py\u001b[0m in \u001b[0;36mdrop\u001b[0;34m(self, labels, axis, index, columns, level, inplace, errors)\u001b[0m\n\u001b[1;32m   4161\u001b[0m                 \u001b[0mweight\u001b[0m  \u001b[0;36m1.0\u001b[0m     \u001b[0;36m0.8\u001b[0m\u001b[0;34m\u001b[0m\u001b[0;34m\u001b[0m\u001b[0m\n\u001b[1;32m   4162\u001b[0m         \"\"\"\n\u001b[0;32m-> 4163\u001b[0;31m         return super().drop(\n\u001b[0m\u001b[1;32m   4164\u001b[0m             \u001b[0mlabels\u001b[0m\u001b[0;34m=\u001b[0m\u001b[0mlabels\u001b[0m\u001b[0;34m,\u001b[0m\u001b[0;34m\u001b[0m\u001b[0;34m\u001b[0m\u001b[0m\n\u001b[1;32m   4165\u001b[0m             \u001b[0maxis\u001b[0m\u001b[0;34m=\u001b[0m\u001b[0maxis\u001b[0m\u001b[0;34m,\u001b[0m\u001b[0;34m\u001b[0m\u001b[0;34m\u001b[0m\u001b[0m\n",
      "\u001b[0;32m/opt/conda/lib/python3.8/site-packages/pandas/core/generic.py\u001b[0m in \u001b[0;36mdrop\u001b[0;34m(self, labels, axis, index, columns, level, inplace, errors)\u001b[0m\n\u001b[1;32m   3885\u001b[0m         \u001b[0;32mfor\u001b[0m \u001b[0maxis\u001b[0m\u001b[0;34m,\u001b[0m \u001b[0mlabels\u001b[0m \u001b[0;32min\u001b[0m \u001b[0maxes\u001b[0m\u001b[0;34m.\u001b[0m\u001b[0mitems\u001b[0m\u001b[0;34m(\u001b[0m\u001b[0;34m)\u001b[0m\u001b[0;34m:\u001b[0m\u001b[0;34m\u001b[0m\u001b[0;34m\u001b[0m\u001b[0m\n\u001b[1;32m   3886\u001b[0m             \u001b[0;32mif\u001b[0m \u001b[0mlabels\u001b[0m \u001b[0;32mis\u001b[0m \u001b[0;32mnot\u001b[0m \u001b[0;32mNone\u001b[0m\u001b[0;34m:\u001b[0m\u001b[0;34m\u001b[0m\u001b[0;34m\u001b[0m\u001b[0m\n\u001b[0;32m-> 3887\u001b[0;31m                 \u001b[0mobj\u001b[0m \u001b[0;34m=\u001b[0m \u001b[0mobj\u001b[0m\u001b[0;34m.\u001b[0m\u001b[0m_drop_axis\u001b[0m\u001b[0;34m(\u001b[0m\u001b[0mlabels\u001b[0m\u001b[0;34m,\u001b[0m \u001b[0maxis\u001b[0m\u001b[0;34m,\u001b[0m \u001b[0mlevel\u001b[0m\u001b[0;34m=\u001b[0m\u001b[0mlevel\u001b[0m\u001b[0;34m,\u001b[0m \u001b[0merrors\u001b[0m\u001b[0;34m=\u001b[0m\u001b[0merrors\u001b[0m\u001b[0;34m)\u001b[0m\u001b[0;34m\u001b[0m\u001b[0;34m\u001b[0m\u001b[0m\n\u001b[0m\u001b[1;32m   3888\u001b[0m \u001b[0;34m\u001b[0m\u001b[0m\n\u001b[1;32m   3889\u001b[0m         \u001b[0;32mif\u001b[0m \u001b[0minplace\u001b[0m\u001b[0;34m:\u001b[0m\u001b[0;34m\u001b[0m\u001b[0;34m\u001b[0m\u001b[0m\n",
      "\u001b[0;32m/opt/conda/lib/python3.8/site-packages/pandas/core/generic.py\u001b[0m in \u001b[0;36m_drop_axis\u001b[0;34m(self, labels, axis, level, errors)\u001b[0m\n\u001b[1;32m   3919\u001b[0m                 \u001b[0mnew_axis\u001b[0m \u001b[0;34m=\u001b[0m \u001b[0maxis\u001b[0m\u001b[0;34m.\u001b[0m\u001b[0mdrop\u001b[0m\u001b[0;34m(\u001b[0m\u001b[0mlabels\u001b[0m\u001b[0;34m,\u001b[0m \u001b[0mlevel\u001b[0m\u001b[0;34m=\u001b[0m\u001b[0mlevel\u001b[0m\u001b[0;34m,\u001b[0m \u001b[0merrors\u001b[0m\u001b[0;34m=\u001b[0m\u001b[0merrors\u001b[0m\u001b[0;34m)\u001b[0m\u001b[0;34m\u001b[0m\u001b[0;34m\u001b[0m\u001b[0m\n\u001b[1;32m   3920\u001b[0m             \u001b[0;32melse\u001b[0m\u001b[0;34m:\u001b[0m\u001b[0;34m\u001b[0m\u001b[0;34m\u001b[0m\u001b[0m\n\u001b[0;32m-> 3921\u001b[0;31m                 \u001b[0mnew_axis\u001b[0m \u001b[0;34m=\u001b[0m \u001b[0maxis\u001b[0m\u001b[0;34m.\u001b[0m\u001b[0mdrop\u001b[0m\u001b[0;34m(\u001b[0m\u001b[0mlabels\u001b[0m\u001b[0;34m,\u001b[0m \u001b[0merrors\u001b[0m\u001b[0;34m=\u001b[0m\u001b[0merrors\u001b[0m\u001b[0;34m)\u001b[0m\u001b[0;34m\u001b[0m\u001b[0;34m\u001b[0m\u001b[0m\n\u001b[0m\u001b[1;32m   3922\u001b[0m             \u001b[0mresult\u001b[0m \u001b[0;34m=\u001b[0m \u001b[0mself\u001b[0m\u001b[0;34m.\u001b[0m\u001b[0mreindex\u001b[0m\u001b[0;34m(\u001b[0m\u001b[0;34m**\u001b[0m\u001b[0;34m{\u001b[0m\u001b[0maxis_name\u001b[0m\u001b[0;34m:\u001b[0m \u001b[0mnew_axis\u001b[0m\u001b[0;34m}\u001b[0m\u001b[0;34m)\u001b[0m\u001b[0;34m\u001b[0m\u001b[0;34m\u001b[0m\u001b[0m\n\u001b[1;32m   3923\u001b[0m \u001b[0;34m\u001b[0m\u001b[0m\n",
      "\u001b[0;32m/opt/conda/lib/python3.8/site-packages/pandas/core/indexes/base.py\u001b[0m in \u001b[0;36mdrop\u001b[0;34m(self, labels, errors)\u001b[0m\n\u001b[1;32m   5280\u001b[0m         \u001b[0;32mif\u001b[0m \u001b[0mmask\u001b[0m\u001b[0;34m.\u001b[0m\u001b[0many\u001b[0m\u001b[0;34m(\u001b[0m\u001b[0;34m)\u001b[0m\u001b[0;34m:\u001b[0m\u001b[0;34m\u001b[0m\u001b[0;34m\u001b[0m\u001b[0m\n\u001b[1;32m   5281\u001b[0m             \u001b[0;32mif\u001b[0m \u001b[0merrors\u001b[0m \u001b[0;34m!=\u001b[0m \u001b[0;34m\"ignore\"\u001b[0m\u001b[0;34m:\u001b[0m\u001b[0;34m\u001b[0m\u001b[0;34m\u001b[0m\u001b[0m\n\u001b[0;32m-> 5282\u001b[0;31m                 \u001b[0;32mraise\u001b[0m \u001b[0mKeyError\u001b[0m\u001b[0;34m(\u001b[0m\u001b[0;34mf\"{labels[mask]} not found in axis\"\u001b[0m\u001b[0;34m)\u001b[0m\u001b[0;34m\u001b[0m\u001b[0;34m\u001b[0m\u001b[0m\n\u001b[0m\u001b[1;32m   5283\u001b[0m             \u001b[0mindexer\u001b[0m \u001b[0;34m=\u001b[0m \u001b[0mindexer\u001b[0m\u001b[0;34m[\u001b[0m\u001b[0;34m~\u001b[0m\u001b[0mmask\u001b[0m\u001b[0;34m]\u001b[0m\u001b[0;34m\u001b[0m\u001b[0;34m\u001b[0m\u001b[0m\n\u001b[1;32m   5284\u001b[0m         \u001b[0;32mreturn\u001b[0m \u001b[0mself\u001b[0m\u001b[0;34m.\u001b[0m\u001b[0mdelete\u001b[0m\u001b[0;34m(\u001b[0m\u001b[0mindexer\u001b[0m\u001b[0;34m)\u001b[0m\u001b[0;34m\u001b[0m\u001b[0;34m\u001b[0m\u001b[0m\n",
      "\u001b[0;31mKeyError\u001b[0m: \"['Buildings' 'Building 37'] not found in axis\""
     ]
    }
   ],
   "source": [
    "pprint(frame)\n",
    "frame.drop(['Name','Buildings','Building 37', 'Description', 'geometry', 'center_point'], axis=1, inplace=True)"
   ]
  },
  {
   "cell_type": "code",
   "execution_count": 55,
   "metadata": {},
   "outputs": [
    {
     "name": "stdout",
     "output_type": "stream",
     "text": [
      "                          Device  Max Clients  Unique Clients      Building  \\\n",
      "0            Wainani H 362B Temp          2.0             2.0       Wainani   \n",
      "1                  Wainani F 502         12.0            15.0       Wainani   \n",
      "2                  Wainani F 605          6.0            14.0       Wainani   \n",
      "3                  Wainani F 603          6.0            10.0       Wainani   \n",
      "4                  Wainani F 604          5.0             7.0       Wainani   \n",
      "...                          ...          ...             ...           ...   \n",
      "376434    Dance Studio Classroom          3.0             6.0  Dance Studio   \n",
      "376435  Dance Studio Dance Floor          2.0            12.0  Dance Studio   \n",
      "376436            Dance Studio 4          1.0             3.0  Dance Studio   \n",
      "376437    Dance Studio Classroom          3.0             6.0  Dance Studio   \n",
      "376438  Dance Studio Dance Floor          3.0            19.0  Dance Studio   \n",
      "\n",
      "             date        period           epoch  \\\n",
      "0       2020-0824  1200pm-259pm  1598317333.csv   \n",
      "1       2020-0824  1200pm-259pm  1598317333.csv   \n",
      "2       2020-0824  1200pm-259pm  1598317333.csv   \n",
      "3       2020-0824  1200pm-259pm  1598317333.csv   \n",
      "4       2020-0824  1200pm-259pm  1598317333.csv   \n",
      "...           ...           ...             ...   \n",
      "376434  2020-0908   600am-859am  1599591727.csv   \n",
      "376435  2020-0908   600am-859am  1599591727.csv   \n",
      "376436  2020-0908  900am-1159am  1599602525.csv   \n",
      "376437  2020-0908  900am-1159am  1599602525.csv   \n",
      "376438  2020-0908  900am-1159am  1599602525.csv   \n",
      "\n",
      "                                    coordinates_x          Name  \\\n",
      "0       [-157.81458181493875, 21.292468917945786]       Wainani   \n",
      "1       [-157.81458181493875, 21.292468917945786]       Wainani   \n",
      "2       [-157.81458181493875, 21.292468917945786]       Wainani   \n",
      "3       [-157.81458181493875, 21.292468917945786]       Wainani   \n",
      "4       [-157.81458181493875, 21.292468917945786]       Wainani   \n",
      "...                                           ...           ...   \n",
      "376434  [-157.81559649504408, 21.301985340871845]  Dance Studio   \n",
      "376435  [-157.81559649504408, 21.301985340871845]  Dance Studio   \n",
      "376436  [-157.81559649504408, 21.301985340871845]  Dance Studio   \n",
      "376437  [-157.81559649504408, 21.301985340871845]  Dance Studio   \n",
      "376438  [-157.81559649504408, 21.301985340871845]  Dance Studio   \n",
      "\n",
      "                             Description  \\\n",
      "0       <ul> <li>106 (Lounge)</li> </ul>   \n",
      "1       <ul> <li>106 (Lounge)</li> </ul>   \n",
      "2       <ul> <li>106 (Lounge)</li> </ul>   \n",
      "3       <ul> <li>106 (Lounge)</li> </ul>   \n",
      "4       <ul> <li>106 (Lounge)</li> </ul>   \n",
      "...                                  ...   \n",
      "376434     <ul> <li>1st Floor</li> </ul>   \n",
      "376435     <ul> <li>1st Floor</li> </ul>   \n",
      "376436     <ul> <li>1st Floor</li> </ul>   \n",
      "376437     <ul> <li>1st Floor</li> </ul>   \n",
      "376438     <ul> <li>1st Floor</li> </ul>   \n",
      "\n",
      "                                                 geometry  \\\n",
      "0       POLYGON ((-157.81474 21.29246, -157.81453 21.2...   \n",
      "1       POLYGON ((-157.81474 21.29246, -157.81453 21.2...   \n",
      "2       POLYGON ((-157.81474 21.29246, -157.81453 21.2...   \n",
      "3       POLYGON ((-157.81474 21.29246, -157.81453 21.2...   \n",
      "4       POLYGON ((-157.81474 21.29246, -157.81453 21.2...   \n",
      "...                                                   ...   \n",
      "376434  POLYGON ((-157.81571 21.30207, -157.81550 21.3...   \n",
      "376435  POLYGON ((-157.81571 21.30207, -157.81550 21.3...   \n",
      "376436  POLYGON ((-157.81571 21.30207, -157.81550 21.3...   \n",
      "376437  POLYGON ((-157.81571 21.30207, -157.81550 21.3...   \n",
      "376438  POLYGON ((-157.81571 21.30207, -157.81550 21.3...   \n",
      "\n",
      "                       center_point  \\\n",
      "0       POINT (-157.81458 21.29247)   \n",
      "1       POINT (-157.81458 21.29247)   \n",
      "2       POINT (-157.81458 21.29247)   \n",
      "3       POINT (-157.81458 21.29247)   \n",
      "4       POINT (-157.81458 21.29247)   \n",
      "...                             ...   \n",
      "376434  POINT (-157.81560 21.30199)   \n",
      "376435  POINT (-157.81560 21.30199)   \n",
      "376436  POINT (-157.81560 21.30199)   \n",
      "376437  POINT (-157.81560 21.30199)   \n",
      "376438  POINT (-157.81560 21.30199)   \n",
      "\n",
      "                                    coordinates_y         lon        lat  \n",
      "0       [-157.81458181493875, 21.292468917945786] -157.814582  21.292469  \n",
      "1       [-157.81458181493875, 21.292468917945786] -157.814582  21.292469  \n",
      "2       [-157.81458181493875, 21.292468917945786] -157.814582  21.292469  \n",
      "3       [-157.81458181493875, 21.292468917945786] -157.814582  21.292469  \n",
      "4       [-157.81458181493875, 21.292468917945786] -157.814582  21.292469  \n",
      "...                                           ...         ...        ...  \n",
      "376434  [-157.81559649504408, 21.301985340871845] -157.815596  21.301985  \n",
      "376435  [-157.81559649504408, 21.301985340871845] -157.815596  21.301985  \n",
      "376436  [-157.81559649504408, 21.301985340871845] -157.815596  21.301985  \n",
      "376437  [-157.81559649504408, 21.301985340871845] -157.815596  21.301985  \n",
      "376438  [-157.81559649504408, 21.301985340871845] -157.815596  21.301985  \n",
      "\n",
      "[301770 rows x 15 columns]\n"
     ]
    }
   ],
   "source": [
    "pprint(frame.dropna())"
   ]
  },
  {
   "cell_type": "code",
   "execution_count": null,
   "metadata": {},
   "outputs": [],
   "source": [
    "# json_format = {\n",
    "#     \"features\": [\n",
    "#         {\n",
    "#             \"type\": \"Feature\",\n",
    "#             \"properties\":\n",
    "#                 {\n",
    "#                     \"device_id\": \"Wainani F 502\",\n",
    "#                     \"Building\": \"Wainani\",\n",
    "#                     \"Max Clients\": 2.0,\n",
    "#                     \"Unique Clients\": 2.0,\n",
    "#                     \"date\": \"2020-0824\",\n",
    "#                     \"startTime\": \"1200pm\",\n",
    "#                     \"endTime\": \"259pm\"\n",
    "#                 },\n",
    "#             \"geometry\":\n",
    "#                 {\n",
    "#                     \"type\": \"Point\",\n",
    "#                     \"coordinates\": [-157.81458181493875, 21.292468917945786] \n",
    "#                 }\n",
    "#         }\n",
    "#     ]\n",
    "# }"
   ]
  },
  {
   "cell_type": "code",
   "execution_count": 46,
   "metadata": {},
   "outputs": [],
   "source": [
    "import json\n",
    "test_json = frame[['Building', 'Unique Clients', 'date']].to_json(orient='records')\n",
    "geo_json = frame[[\"coordinates\"]].to_json(orient='records')\n",
    "test = [test_json, geo_json]\n",
    "parsed = json.loads(test_json)\n",
    "\n",
    "with open('data.json', 'w', encoding='utf-8') as f:\n",
    "    json.dump(parsed, f, ensure_ascii=False, indent=4)"
   ]
  },
  {
   "cell_type": "code",
   "execution_count": 40,
   "metadata": {},
   "outputs": [
    {
     "ename": "TypeError",
     "evalue": "dump() missing 1 required positional argument: 'fp'",
     "output_type": "error",
     "traceback": [
      "\u001b[0;31m---------------------------------------------------------------------------\u001b[0m",
      "\u001b[0;31mTypeError\u001b[0m                                 Traceback (most recent call last)",
      "\u001b[0;32m<ipython-input-40-392f474639d6>\u001b[0m in \u001b[0;36m<module>\u001b[0;34m\u001b[0m\n\u001b[0;32m----> 1\u001b[0;31m \u001b[0mjson\u001b[0m\u001b[0;34m.\u001b[0m\u001b[0mdump\u001b[0m\u001b[0;34m(\u001b[0m\u001b[0mparsed\u001b[0m\u001b[0;34m,\u001b[0m \u001b[0mindent\u001b[0m\u001b[0;34m=\u001b[0m\u001b[0;36m4\u001b[0m\u001b[0;34m)\u001b[0m\u001b[0;34m\u001b[0m\u001b[0;34m\u001b[0m\u001b[0m\n\u001b[0m",
      "\u001b[0;31mTypeError\u001b[0m: dump() missing 1 required positional argument: 'fp'"
     ]
    }
   ],
   "source": [
    "json.dump(parsed, indent=4)"
   ]
  },
  {
   "cell_type": "code",
   "execution_count": 56,
   "metadata": {},
   "outputs": [],
   "source": [
    "# credit! https://geoffboeing.com/2015/10/exporting-python-data-geojson/\n",
    "# feed this function the dataframe, and a list of properties\n",
    "def df_to_geojson(df, properties, lat='lat', lon='lon'):\n",
    "    geojson = {'type':'FeatureCollection', 'features':[]}\n",
    "    for _, row in df.iterrows():\n",
    "        feature = {'type':'Feature',\n",
    "                   'properties':{},\n",
    "                   'geometry':{'type':'Point',\n",
    "                               'coordinates':[]}}\n",
    "        feature['geometry']['coordinates'] = [row[lon],row[lat]]\n",
    "        for prop in properties:\n",
    "            feature['properties'][prop] = row[prop]\n",
    "        geojson['features'].append(feature)\n",
    "    return geojson"
   ]
  },
  {
   "cell_type": "code",
   "execution_count": 59,
   "metadata": {},
   "outputs": [],
   "source": [
    "geojson = df_to_geojson(frame, ['Building', 'Unique Clients', 'date'])\n",
    "\n",
    "output_filename = 'data.json'\n",
    "with open(output_filename, 'w') as output_file:\n",
    "    output_file.write('var dataset = ')\n",
    "    json.dump(geojson, output_file, indent=2)"
   ]
  },
  {
   "cell_type": "code",
   "execution_count": null,
   "metadata": {},
   "outputs": [],
   "source": [
    "print(frame[])"
   ]
  }
 ],
 "metadata": {
  "kernelspec": {
   "display_name": "Python 3",
   "language": "python",
   "name": "python3"
  },
  "language_info": {
   "codemirror_mode": {
    "name": "ipython",
    "version": 3
   },
   "file_extension": ".py",
   "mimetype": "text/x-python",
   "name": "python",
   "nbconvert_exporter": "python",
   "pygments_lexer": "ipython3",
   "version": "3.8.6"
  }
 },
 "nbformat": 4,
 "nbformat_minor": 4
}
