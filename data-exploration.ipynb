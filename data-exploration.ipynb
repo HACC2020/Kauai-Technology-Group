{
 "cells": [
  {
   "cell_type": "markdown",
   "metadata": {},
   "source": [
    "# Preliminary Data Exploration\n",
    "This notebook takes a look at the [data provided](https://github.com/HACC2020/data) by the UH Occupancy challenge for HACC 2020. "
   ]
  },
  {
   "cell_type": "code",
   "execution_count": 1,
   "metadata": {},
   "outputs": [],
   "source": [
    "import pandas as pd\n",
    "import numpy as np\n",
    "from pprint import pprint\n",
    "from datetime import datetime"
   ]
  },
  {
   "cell_type": "code",
   "execution_count": 2,
   "metadata": {},
   "outputs": [],
   "source": [
    "df = pd.read_csv('data-main/uh_occupancy/2020-0824_600am-859am_devices_1598295707.csv')\n",
    "df2 = pd.read_csv('data-main/uh_occupancy/2020-0824_900am-1159am_devices_1598306516.csv')"
   ]
  },
  {
   "cell_type": "code",
   "execution_count": 3,
   "metadata": {},
   "outputs": [
    {
     "name": "stdout",
     "output_type": "stream",
     "text": [
      "                     Device  Max Clients  Unique Clients     Building\n",
      "0       Wainani H 362B Temp            2               2      Wainani\n",
      "1         Frear D 507C Temp            5               9        Frear\n",
      "2         Frear D 207C Temp            4              10        Frear\n",
      "3         Frear D 707C Temp            4               5        Frear\n",
      "4           Noelani E Store            1              10      Noelani\n",
      "...                     ...          ...             ...          ...\n",
      "3209    C-MORE 104 Outreach            0               4       C-MORE\n",
      "3210            C-MORE 202A            0               0       C-MORE\n",
      "3211             C-MORE 218            0               1       C-MORE\n",
      "3212  Athletics 345 Hallway            4              12    Athletics\n",
      "3213         CBA G103 Mauka            0               0  Shidler CBA\n",
      "\n",
      "[3214 rows x 4 columns]\n",
      "                     Device  Max Clients  Unique Clients     Building\n",
      "0       Wainani H 362B Temp            2               2      Wainani\n",
      "1         Frear D 507C Temp            7               9        Frear\n",
      "2         Frear D 207C Temp            7              12        Frear\n",
      "3         Frear D 707C Temp            4               7        Frear\n",
      "4           Noelani E Store            1              32      Noelani\n",
      "...                     ...          ...             ...          ...\n",
      "3209    C-MORE 104 Outreach            1               9       C-MORE\n",
      "3210            C-MORE 202A            2               4       C-MORE\n",
      "3211             C-MORE 218            0               1       C-MORE\n",
      "3212  Athletics 345 Hallway            4               8    Athletics\n",
      "3213         CBA G103 Mauka            1               1  Shidler CBA\n",
      "\n",
      "[3214 rows x 4 columns]\n"
     ]
    }
   ],
   "source": [
    "pprint(df)\n",
    "pprint(df2)"
   ]
  },
  {
   "cell_type": "code",
   "execution_count": 4,
   "metadata": {},
   "outputs": [
    {
     "data": {
      "text/plain": [
       "True     2497\n",
       "False     717\n",
       "dtype: int64"
      ]
     },
     "execution_count": 4,
     "metadata": {},
     "output_type": "execute_result"
    }
   ],
   "source": [
    "(df['Unique Clients'] > df['Max Clients']).value_counts()\n",
    "(df2['Unique Clients'] > df2['Max Clients']).value_counts()"
   ]
  },
  {
   "cell_type": "code",
   "execution_count": 5,
   "metadata": {},
   "outputs": [],
   "source": [
    "import pandas as pd\n",
    "import glob\n",
    "\n",
    "path='data-main/uh_occupancy'\n",
    "\n",
    "all_files = glob.glob(path + \"/*.csv\")\n",
    "\n",
    "li = []\n",
    "\n",
    "for filename in all_files:\n",
    "    df = pd.read_csv(filename, index_col=None, header=0)\n",
    "    \n",
    "    filename = filename.split('/')\n",
    "    filename = filename[-1:][0].split('_')\n",
    "    filename.remove('devices')\n",
    "    df['date'], df['period'], df['epoch'] = filename[:]\n",
    "    \n",
    "    li.append(df)\n",
    "\n",
    "frame = pd.concat(li, axis=0, ignore_index=True)"
   ]
  },
  {
   "cell_type": "code",
   "execution_count": 6,
   "metadata": {},
   "outputs": [
    {
     "name": "stdout",
     "output_type": "stream",
     "text": [
      "                       Device  Max Clients  Unique Clients     Building  \\\n",
      "0         Wainani H 362B Temp            2               2      Wainani   \n",
      "1           Frear D 507C Temp            7               8        Frear   \n",
      "2           Frear D 207C Temp            8              10        Frear   \n",
      "3           Frear D 707C Temp            6               8        Frear   \n",
      "4             Noelani E Store            4              39      Noelani   \n",
      "...                       ...          ...             ...          ...   \n",
      "399061    C-MORE 104 Outreach            1               3       C-MORE   \n",
      "399062            C-MORE 202A            0               1       C-MORE   \n",
      "399063             C-MORE 218            0               1       C-MORE   \n",
      "399064  Athletics 345 Hallway            1               7    Athletics   \n",
      "399065         CBA G103 Mauka            1               1  Shidler CBA   \n",
      "\n",
      "             date        period           epoch Buildings Building 37  \n",
      "0       2020-0824  1200pm-259pm  1598317333.csv       NaN         NaN  \n",
      "1       2020-0824  1200pm-259pm  1598317333.csv       NaN         NaN  \n",
      "2       2020-0824  1200pm-259pm  1598317333.csv       NaN         NaN  \n",
      "3       2020-0824  1200pm-259pm  1598317333.csv       NaN         NaN  \n",
      "4       2020-0824  1200pm-259pm  1598317333.csv       NaN         NaN  \n",
      "...           ...           ...             ...       ...         ...  \n",
      "399061  2020-0908  900am-1159am  1599602525.csv       NaN         NaN  \n",
      "399062  2020-0908  900am-1159am  1599602525.csv       NaN         NaN  \n",
      "399063  2020-0908  900am-1159am  1599602525.csv       NaN         NaN  \n",
      "399064  2020-0908  900am-1159am  1599602525.csv       NaN         NaN  \n",
      "399065  2020-0908  900am-1159am  1599602525.csv       NaN         NaN  \n",
      "\n",
      "[399066 rows x 9 columns]\n"
     ]
    }
   ],
   "source": [
    "pprint(frame)"
   ]
  },
  {
   "cell_type": "code",
   "execution_count": 7,
   "metadata": {},
   "outputs": [],
   "source": [
    "import fiona \n",
    "import geopandas as gpd\n",
    "import shapely\n",
    "\n",
    "# Enable fiona driver\n",
    "gpd.io.file.fiona.drvsupport.supported_drivers['KML'] = 'rw'\n",
    "\n",
    "# Read file\n",
    "df = gpd.read_file('data-main/wireless20200511125738.kml', driver='KML')\n",
    "\n",
    "# Drop Z dimension of polygons that occurs often in kml \n",
    "df.geometry = df.geometry.map(lambda polygon: shapely.ops.transform(lambda x, y, z: (x, y), polygon))"
   ]
  },
  {
   "cell_type": "code",
   "execution_count": 8,
   "metadata": {},
   "outputs": [
    {
     "name": "stdout",
     "output_type": "stream",
     "text": [
      "                              Name  \\\n",
      "0                           Biomed   \n",
      "1                      Bilger Hall   \n",
      "2                    Campus Center   \n",
      "3                 Hamilton Library   \n",
      "4                      George Hall   \n",
      "..                             ...   \n",
      "122                 St John Garden   \n",
      "123   Law School Clinical Building   \n",
      "124       Lyon Arboretum Cottage G   \n",
      "125        Manoa Innovation Center   \n",
      "126  Lower Campus Maintenance Shed   \n",
      "\n",
      "                                           Description  \\\n",
      "0    <ul> <li>A-Court: A 110, A110T</li> <li>B-Cour...   \n",
      "1    <ul> <li>1st Floor</li> <li>2nd Floor</li> <li...   \n",
      "2    <ul> <li>105 (Stir Fresh), 117 (Game Room), 12...   \n",
      "3    <ul> <li>Main Building </li> <li>Basement</li>...   \n",
      "4    <ul> <li>1st Floor</li> <li>2nd Floor</li> <li...   \n",
      "..                                                 ...   \n",
      "122                                         <ul> </ul>   \n",
      "123                                         <ul> </ul>   \n",
      "124                                         <ul> </ul>   \n",
      "125                                         <ul> </ul>   \n",
      "126                                         <ul> </ul>   \n",
      "\n",
      "                                              geometry  \n",
      "0    POLYGON ((-157.81507 21.30390, -157.81417 21.3...  \n",
      "1    POLYGON ((-157.81689 21.29923, -157.81633 21.2...  \n",
      "2    POLYGON ((-157.81935 21.29875, -157.81910 21.2...  \n",
      "3    POLYGON ((-157.81681 21.30119, -157.81584 21.3...  \n",
      "4    POLYGON ((-157.82040 21.30071, -157.82003 21.3...  \n",
      "..                                                 ...  \n",
      "122  POLYGON ((-157.81515 21.30196, -157.81479 21.3...  \n",
      "123  POLYGON ((-157.81927 21.29664, -157.81928 21.2...  \n",
      "124  POLYGON ((-157.80289 21.33291, -157.80277 21.3...  \n",
      "125  POLYGON ((-157.80862 21.30925, -157.80822 21.3...  \n",
      "126  POLYGON ((-157.81521 21.29478, -157.81530 21.2...  \n",
      "\n",
      "[127 rows x 3 columns]\n"
     ]
    }
   ],
   "source": [
    "print(df)"
   ]
  },
  {
   "cell_type": "code",
   "execution_count": 9,
   "metadata": {},
   "outputs": [
    {
     "name": "stdout",
     "output_type": "stream",
     "text": [
      "                              Name  \\\n",
      "0                           Biomed   \n",
      "1                      Bilger Hall   \n",
      "2                    Campus Center   \n",
      "3                 Hamilton Library   \n",
      "4                      George Hall   \n",
      "..                             ...   \n",
      "122                 St John Garden   \n",
      "123   Law School Clinical Building   \n",
      "124       Lyon Arboretum Cottage G   \n",
      "125        Manoa Innovation Center   \n",
      "126  Lower Campus Maintenance Shed   \n",
      "\n",
      "                                           Description  \\\n",
      "0    <ul> <li>A-Court: A 110, A110T</li> <li>B-Cour...   \n",
      "1    <ul> <li>1st Floor</li> <li>2nd Floor</li> <li...   \n",
      "2    <ul> <li>105 (Stir Fresh), 117 (Game Room), 12...   \n",
      "3    <ul> <li>Main Building </li> <li>Basement</li>...   \n",
      "4    <ul> <li>1st Floor</li> <li>2nd Floor</li> <li...   \n",
      "..                                                 ...   \n",
      "122                                         <ul> </ul>   \n",
      "123                                         <ul> </ul>   \n",
      "124                                         <ul> </ul>   \n",
      "125                                         <ul> </ul>   \n",
      "126                                         <ul> </ul>   \n",
      "\n",
      "                                              geometry  \\\n",
      "0    POLYGON ((-157.81507 21.30390, -157.81417 21.3...   \n",
      "1    POLYGON ((-157.81689 21.29923, -157.81633 21.2...   \n",
      "2    POLYGON ((-157.81935 21.29875, -157.81910 21.2...   \n",
      "3    POLYGON ((-157.81681 21.30119, -157.81584 21.3...   \n",
      "4    POLYGON ((-157.82040 21.30071, -157.82003 21.3...   \n",
      "..                                                 ...   \n",
      "122  POLYGON ((-157.81515 21.30196, -157.81479 21.3...   \n",
      "123  POLYGON ((-157.81927 21.29664, -157.81928 21.2...   \n",
      "124  POLYGON ((-157.80289 21.33291, -157.80277 21.3...   \n",
      "125  POLYGON ((-157.80862 21.30925, -157.80822 21.3...   \n",
      "126  POLYGON ((-157.81521 21.29478, -157.81530 21.2...   \n",
      "\n",
      "                    center_point  \n",
      "0    POINT (-157.81462 21.30351)  \n",
      "1    POINT (-157.81665 21.29949)  \n",
      "2    POINT (-157.81884 21.29843)  \n",
      "3    POINT (-157.81620 21.30078)  \n",
      "4    POINT (-157.82020 21.30044)  \n",
      "..                           ...  \n",
      "122  POINT (-157.81492 21.30180)  \n",
      "123  POINT (-157.81943 21.29653)  \n",
      "124  POINT (-157.80285 21.33282)  \n",
      "125  POINT (-157.80859 21.30886)  \n",
      "126  POINT (-157.81518 21.29467)  \n",
      "\n",
      "[127 rows x 4 columns]\n"
     ]
    },
    {
     "name": "stderr",
     "output_type": "stream",
     "text": [
      "<ipython-input-9-98e053e5687a>:1: UserWarning: Geometry is in a geographic CRS. Results from 'centroid' are likely incorrect. Use 'GeoSeries.to_crs()' to re-project geometries to a projected CRS before this operation.\n",
      "\n",
      "  df['center_point'] = df['geometry'].centroid\n"
     ]
    }
   ],
   "source": [
    "# For simplicity, we ignore the curvature of the Earth: https://gis.stackexchange.com/questions/372564/userwarning-when-trying-to-get-centroid-from-a-polygon-geopandas\n",
    "df['center_point'] = df['geometry'].centroid"
   ]
  },
  {
   "cell_type": "code",
   "execution_count": null,
   "metadata": {},
   "outputs": [],
   "source": [
    "print(df['Name'])"
   ]
  },
  {
   "cell_type": "code",
   "execution_count": null,
   "metadata": {},
   "outputs": [],
   "source": [
    "# some of the building names are different in the KML file. This shows how many we still need coordinates for:\n",
    "a = frame['Building'].unique()\n",
    "print(len(a))\n",
    "l3 = [x for x in a if x not in list(df['Name'])]\n",
    "print(l3)\n",
    "print(len(l3))"
   ]
  },
  {
   "cell_type": "code",
   "execution_count": 10,
   "metadata": {},
   "outputs": [],
   "source": [
    "df['Building'] = df['Name']"
   ]
  },
  {
   "cell_type": "code",
   "execution_count": 16,
   "metadata": {},
   "outputs": [],
   "source": [
    "# create a column for the building's coordinates by converting the Shapely geometry object into a list\n",
    "df['coordinates'] = [[center.x, center.y] for center in df['center_point'] if center != None]\n",
    "\n",
    "# https://stackoverflow.com/questions/53645882/pandas-merging-101\n",
    "frame = frame.merge(df, on='Building', how='outer')"
   ]
  },
  {
   "cell_type": "code",
   "execution_count": 17,
   "metadata": {},
   "outputs": [
    {
     "name": "stdout",
     "output_type": "stream",
     "text": [
      "                     Device  Max Clients  Unique Clients  \\\n",
      "0       Wainani H 362B Temp          2.0             2.0   \n",
      "1             Wainani F 502         12.0            15.0   \n",
      "2             Wainani F 605          6.0            14.0   \n",
      "3             Wainani F 603          6.0            10.0   \n",
      "4             Wainani F 604          5.0             7.0   \n",
      "...                     ...          ...             ...   \n",
      "399105                  NaN          NaN             NaN   \n",
      "399106                  NaN          NaN             NaN   \n",
      "399107                  NaN          NaN             NaN   \n",
      "399108                  NaN          NaN             NaN   \n",
      "399109                  NaN          NaN             NaN   \n",
      "\n",
      "                             Building       date        period  \\\n",
      "0                             Wainani  2020-0824  1200pm-259pm   \n",
      "1                             Wainani  2020-0824  1200pm-259pm   \n",
      "2                             Wainani  2020-0824  1200pm-259pm   \n",
      "3                             Wainani  2020-0824  1200pm-259pm   \n",
      "4                             Wainani  2020-0824  1200pm-259pm   \n",
      "...                               ...        ...           ...   \n",
      "399105                 St John Garden        NaN           NaN   \n",
      "399106   Law School Clinical Building        NaN           NaN   \n",
      "399107       Lyon Arboretum Cottage G        NaN           NaN   \n",
      "399108        Manoa Innovation Center        NaN           NaN   \n",
      "399109  Lower Campus Maintenance Shed        NaN           NaN   \n",
      "\n",
      "                 epoch Buildings Building 37                         Name_x  \\\n",
      "0       1598317333.csv       NaN         NaN                        Wainani   \n",
      "1       1598317333.csv       NaN         NaN                        Wainani   \n",
      "2       1598317333.csv       NaN         NaN                        Wainani   \n",
      "3       1598317333.csv       NaN         NaN                        Wainani   \n",
      "4       1598317333.csv       NaN         NaN                        Wainani   \n",
      "...                ...       ...         ...                            ...   \n",
      "399105             NaN       NaN         NaN                 St John Garden   \n",
      "399106             NaN       NaN         NaN   Law School Clinical Building   \n",
      "399107             NaN       NaN         NaN       Lyon Arboretum Cottage G   \n",
      "399108             NaN       NaN         NaN        Manoa Innovation Center   \n",
      "399109             NaN       NaN         NaN  Lower Campus Maintenance Shed   \n",
      "\n",
      "                           Description_x  \\\n",
      "0       <ul> <li>106 (Lounge)</li> </ul>   \n",
      "1       <ul> <li>106 (Lounge)</li> </ul>   \n",
      "2       <ul> <li>106 (Lounge)</li> </ul>   \n",
      "3       <ul> <li>106 (Lounge)</li> </ul>   \n",
      "4       <ul> <li>106 (Lounge)</li> </ul>   \n",
      "...                                  ...   \n",
      "399105                        <ul> </ul>   \n",
      "399106                        <ul> </ul>   \n",
      "399107                        <ul> </ul>   \n",
      "399108                        <ul> </ul>   \n",
      "399109                        <ul> </ul>   \n",
      "\n",
      "                                               geometry_x  \\\n",
      "0       POLYGON ((-157.81474 21.29246, -157.81453 21.2...   \n",
      "1       POLYGON ((-157.81474 21.29246, -157.81453 21.2...   \n",
      "2       POLYGON ((-157.81474 21.29246, -157.81453 21.2...   \n",
      "3       POLYGON ((-157.81474 21.29246, -157.81453 21.2...   \n",
      "4       POLYGON ((-157.81474 21.29246, -157.81453 21.2...   \n",
      "...                                                   ...   \n",
      "399105  POLYGON ((-157.81515 21.30196, -157.81479 21.3...   \n",
      "399106  POLYGON ((-157.81927 21.29664, -157.81928 21.2...   \n",
      "399107  POLYGON ((-157.80289 21.33291, -157.80277 21.3...   \n",
      "399108  POLYGON ((-157.80862 21.30925, -157.80822 21.3...   \n",
      "399109  POLYGON ((-157.81521 21.29478, -157.81530 21.2...   \n",
      "\n",
      "                     center_point_x  \\\n",
      "0       POINT (-157.81458 21.29247)   \n",
      "1       POINT (-157.81458 21.29247)   \n",
      "2       POINT (-157.81458 21.29247)   \n",
      "3       POINT (-157.81458 21.29247)   \n",
      "4       POINT (-157.81458 21.29247)   \n",
      "...                             ...   \n",
      "399105  POINT (-157.81492 21.30180)   \n",
      "399106  POINT (-157.81943 21.29653)   \n",
      "399107  POINT (-157.80285 21.33282)   \n",
      "399108  POINT (-157.80859 21.30886)   \n",
      "399109  POINT (-157.81518 21.29467)   \n",
      "\n",
      "                                    coordinates_x  \\\n",
      "0       [-157.81458181493875, 21.292468917945786]   \n",
      "1       [-157.81458181493875, 21.292468917945786]   \n",
      "2       [-157.81458181493875, 21.292468917945786]   \n",
      "3       [-157.81458181493875, 21.292468917945786]   \n",
      "4       [-157.81458181493875, 21.292468917945786]   \n",
      "...                                           ...   \n",
      "399105   [-157.8149158862319, 21.301800828250123]   \n",
      "399106   [-157.8194272081451, 21.296532782831285]   \n",
      "399107   [-157.8028471768998, 21.332824327843287]   \n",
      "399108  [-157.80858816323735, 21.308861044983516]   \n",
      "399109  [-157.81517570583927, 21.294666727224854]   \n",
      "\n",
      "                               Name_y                     Description_y  \\\n",
      "0                             Wainani  <ul> <li>106 (Lounge)</li> </ul>   \n",
      "1                             Wainani  <ul> <li>106 (Lounge)</li> </ul>   \n",
      "2                             Wainani  <ul> <li>106 (Lounge)</li> </ul>   \n",
      "3                             Wainani  <ul> <li>106 (Lounge)</li> </ul>   \n",
      "4                             Wainani  <ul> <li>106 (Lounge)</li> </ul>   \n",
      "...                               ...                               ...   \n",
      "399105                 St John Garden                        <ul> </ul>   \n",
      "399106   Law School Clinical Building                        <ul> </ul>   \n",
      "399107       Lyon Arboretum Cottage G                        <ul> </ul>   \n",
      "399108        Manoa Innovation Center                        <ul> </ul>   \n",
      "399109  Lower Campus Maintenance Shed                        <ul> </ul>   \n",
      "\n",
      "                                               geometry_y  \\\n",
      "0       POLYGON ((-157.81474 21.29246, -157.81453 21.2...   \n",
      "1       POLYGON ((-157.81474 21.29246, -157.81453 21.2...   \n",
      "2       POLYGON ((-157.81474 21.29246, -157.81453 21.2...   \n",
      "3       POLYGON ((-157.81474 21.29246, -157.81453 21.2...   \n",
      "4       POLYGON ((-157.81474 21.29246, -157.81453 21.2...   \n",
      "...                                                   ...   \n",
      "399105  POLYGON ((-157.81515 21.30196, -157.81479 21.3...   \n",
      "399106  POLYGON ((-157.81927 21.29664, -157.81928 21.2...   \n",
      "399107  POLYGON ((-157.80289 21.33291, -157.80277 21.3...   \n",
      "399108  POLYGON ((-157.80862 21.30925, -157.80822 21.3...   \n",
      "399109  POLYGON ((-157.81521 21.29478, -157.81530 21.2...   \n",
      "\n",
      "                     center_point_y                              coordinates_y  \n",
      "0       POINT (-157.81458 21.29247)  [-157.81458181493875, 21.292468917945786]  \n",
      "1       POINT (-157.81458 21.29247)  [-157.81458181493875, 21.292468917945786]  \n",
      "2       POINT (-157.81458 21.29247)  [-157.81458181493875, 21.292468917945786]  \n",
      "3       POINT (-157.81458 21.29247)  [-157.81458181493875, 21.292468917945786]  \n",
      "4       POINT (-157.81458 21.29247)  [-157.81458181493875, 21.292468917945786]  \n",
      "...                             ...                                        ...  \n",
      "399105  POINT (-157.81492 21.30180)   [-157.8149158862319, 21.301800828250123]  \n",
      "399106  POINT (-157.81943 21.29653)   [-157.8194272081451, 21.296532782831285]  \n",
      "399107  POINT (-157.80285 21.33282)   [-157.8028471768998, 21.332824327843287]  \n",
      "399108  POINT (-157.80859 21.30886)  [-157.80858816323735, 21.308861044983516]  \n",
      "399109  POINT (-157.81518 21.29467)  [-157.81517570583927, 21.294666727224854]  \n",
      "\n",
      "[399110 rows x 19 columns]\n"
     ]
    }
   ],
   "source": [
    "pprint(frame)"
   ]
  },
  {
   "cell_type": "code",
   "execution_count": null,
   "metadata": {},
   "outputs": [],
   "source": []
  }
 ],
 "metadata": {
  "kernelspec": {
   "display_name": "Python 3",
   "language": "python",
   "name": "python3"
  },
  "language_info": {
   "codemirror_mode": {
    "name": "ipython",
    "version": 3
   },
   "file_extension": ".py",
   "mimetype": "text/x-python",
   "name": "python",
   "nbconvert_exporter": "python",
   "pygments_lexer": "ipython3",
   "version": "3.8.6"
  }
 },
 "nbformat": 4,
 "nbformat_minor": 4
}
