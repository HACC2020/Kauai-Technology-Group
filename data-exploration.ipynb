{
 "cells": [
  {
   "cell_type": "markdown",
   "metadata": {},
   "source": [
    "# Preliminary Data Exploration\n",
    "This notebook takes a look at the [data provided](https://github.com/HACC2020/data) by the UH Occupancy challenge for HACC 2020. "
   ]
  },
  {
   "cell_type": "code",
   "execution_count": 35,
   "metadata": {},
   "outputs": [],
   "source": [
    "import pandas as pd\n",
    "import numpy as np\n",
    "from pprint import pprint\n",
    "from datetime import datetime"
   ]
  },
  {
   "cell_type": "code",
   "execution_count": 36,
   "metadata": {},
   "outputs": [],
   "source": [
    "df = pd.read_csv('data-main/uh_occupancy/2020-0824_600am-859am_devices_1598295707.csv')\n",
    "df2 = pd.read_csv('data-main/uh_occupancy/2020-0824_900am-1159am_devices_1598306516.csv')"
   ]
  },
  {
   "cell_type": "code",
   "execution_count": 37,
   "metadata": {},
   "outputs": [
    {
     "name": "stdout",
     "output_type": "stream",
     "text": [
      "                     Device  Max Clients  Unique Clients     Building\n",
      "0       Wainani H 362B Temp            2               2      Wainani\n",
      "1         Frear D 507C Temp            5               9        Frear\n",
      "2         Frear D 207C Temp            4              10        Frear\n",
      "3         Frear D 707C Temp            4               5        Frear\n",
      "4           Noelani E Store            1              10      Noelani\n",
      "...                     ...          ...             ...          ...\n",
      "3209    C-MORE 104 Outreach            0               4       C-MORE\n",
      "3210            C-MORE 202A            0               0       C-MORE\n",
      "3211             C-MORE 218            0               1       C-MORE\n",
      "3212  Athletics 345 Hallway            4              12    Athletics\n",
      "3213         CBA G103 Mauka            0               0  Shidler CBA\n",
      "\n",
      "[3214 rows x 4 columns]\n",
      "                     Device  Max Clients  Unique Clients     Building\n",
      "0       Wainani H 362B Temp            2               2      Wainani\n",
      "1         Frear D 507C Temp            7               9        Frear\n",
      "2         Frear D 207C Temp            7              12        Frear\n",
      "3         Frear D 707C Temp            4               7        Frear\n",
      "4           Noelani E Store            1              32      Noelani\n",
      "...                     ...          ...             ...          ...\n",
      "3209    C-MORE 104 Outreach            1               9       C-MORE\n",
      "3210            C-MORE 202A            2               4       C-MORE\n",
      "3211             C-MORE 218            0               1       C-MORE\n",
      "3212  Athletics 345 Hallway            4               8    Athletics\n",
      "3213         CBA G103 Mauka            1               1  Shidler CBA\n",
      "\n",
      "[3214 rows x 4 columns]\n"
     ]
    }
   ],
   "source": [
    "pprint(df)\n",
    "pprint(df2)"
   ]
  },
  {
   "cell_type": "code",
   "execution_count": 38,
   "metadata": {},
   "outputs": [
    {
     "data": {
      "text/plain": [
       "True     2497\n",
       "False     717\n",
       "dtype: int64"
      ]
     },
     "execution_count": 38,
     "metadata": {},
     "output_type": "execute_result"
    }
   ],
   "source": [
    "(df['Unique Clients'] > df['Max Clients']).value_counts()\n",
    "(df2['Unique Clients'] > df2['Max Clients']).value_counts()"
   ]
  },
  {
   "cell_type": "code",
   "execution_count": 77,
   "metadata": {},
   "outputs": [],
   "source": [
    "import pandas as pd\n",
    "import glob\n",
    "\n",
    "path='data-main/uh_occupancy'\n",
    "\n",
    "all_files = glob.glob(path + \"/*.csv\")\n",
    "\n",
    "li = []\n",
    "\n",
    "for filename in all_files:\n",
    "    df = pd.read_csv(filename, index_col=None, header=0)\n",
    "    \n",
    "    filename = filename.split('/')\n",
    "    filename = filename[-1:][0].split('_')\n",
    "    filename.remove('devices')\n",
    "    df2 = pd.DataFrame([filename], columns=['date', 'period', 'epoch'])\n",
    "    \n",
    "    df = pd.concat([df, df2], axis=1, join='inner')\n",
    "    \n",
    "    li.append(df)\n",
    "\n",
    "frame = pd.concat(li, axis=0, ignore_index=True)"
   ]
  },
  {
   "cell_type": "code",
   "execution_count": 81,
   "metadata": {},
   "outputs": [
    {
     "name": "stdout",
     "output_type": "stream",
     "text": [
      "31    Hamilton Library\n",
      "Name: Building 37, dtype: object\n"
     ]
    }
   ],
   "source": [
    "pprint(frame['Building 37'].dropna())"
   ]
  },
  {
   "cell_type": "code",
   "execution_count": 41,
   "metadata": {},
   "outputs": [
    {
     "name": "stdout",
     "output_type": "stream",
     "text": [
      "['2020-0824', '1200pm-259pm', '1598317333.csv']\n"
     ]
    }
   ],
   "source": [
    "test = 'data-main/uh_occupancy/2020-0824_1200pm-259pm_devices_1598317333.csv'\n",
    "\n",
    "filename = test.split('/')\n",
    "filename = filename[-1:][0].split('_')\n",
    "\n",
    "filename.remove('devices')\n",
    "print(filename)"
   ]
  },
  {
   "cell_type": "code",
   "execution_count": 46,
   "metadata": {},
   "outputs": [],
   "source": [
    "df3 = pd.DataFrame([filename], columns=['date', 'period', 'epoch'])"
   ]
  },
  {
   "cell_type": "code",
   "execution_count": 47,
   "metadata": {},
   "outputs": [
    {
     "name": "stdout",
     "output_type": "stream",
     "text": [
      "        date        period           epoch\n",
      "0  2020-0824  1200pm-259pm  1598317333.csv\n"
     ]
    }
   ],
   "source": [
    "df3[['date','period','epoch']] = filename\n",
    "print(df3)"
   ]
  }
 ],
 "metadata": {
  "kernelspec": {
   "display_name": "Python 3",
   "language": "python",
   "name": "python3"
  },
  "language_info": {
   "codemirror_mode": {
    "name": "ipython",
    "version": 3
   },
   "file_extension": ".py",
   "mimetype": "text/x-python",
   "name": "python",
   "nbconvert_exporter": "python",
   "pygments_lexer": "ipython3",
   "version": "3.8.6"
  }
 },
 "nbformat": 4,
 "nbformat_minor": 4
}
